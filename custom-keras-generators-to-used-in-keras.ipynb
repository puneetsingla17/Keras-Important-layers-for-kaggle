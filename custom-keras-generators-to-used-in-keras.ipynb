{
 "cells": [
  {
   "cell_type": "code",
   "execution_count": 1,
   "metadata": {
    "_cell_guid": "b1076dfc-b9ad-4769-8c92-a6c4dae69d19",
    "_uuid": "8f2839f25d086af736a60e9eeb907d3b93b6e0e5"
   },
   "outputs": [
    {
     "name": "stdout",
     "output_type": "stream",
     "text": [
      "[]\n"
     ]
    }
   ],
   "source": [
    "# This Python 3 environment comes with many helpful analytics libraries installed\n",
    "# It is defined by the kaggle/python docker image: https://github.com/kaggle/docker-python\n",
    "# For example, here's several helpful packages to load in \n",
    "\n",
    "import numpy as np # linear algebra\n",
    "import pandas as pd # data processing, CSV file I/O (e.g. pd.read_csv)\n",
    "from PIL import ImageDraw,Image\n",
    "# Input data files are available in the \"../input/\" directory.\n",
    "# For example, running this (by clicking run or pressing Shift+Enter) will list the files in the input directory\n",
    "import cv2\n",
    "import os\n",
    "print(os.listdir(\"../input\"))\n",
    "\n",
    "# Any results you write to the current directory are saved as output."
   ]
  },
  {
   "cell_type": "markdown",
   "metadata": {},
   "source": [
    "*https://medium.com/@ensembledme/writing-custom-keras-generators-fe815d992c5a*"
   ]
  },
  {
   "cell_type": "markdown",
   "metadata": {},
   "source": [
    "**So, I like to split the batch generator into 4 steps:\n",
    "\n",
    "1. Get input : input_path -> image\n",
    "2. Get output : input_path -> label\n",
    "3. Pre-process input : image -> pre-processing step -> image\n",
    "4. Get generator output : (batch_input, batch_labels )**"
   ]
  },
  {
   "cell_type": "code",
   "execution_count": 2,
   "metadata": {
    "_cell_guid": "79c7e3d0-c299-4dcb-8224-4455121ee9b0",
    "_uuid": "d629ff2d2480ee46fbb7e2d37f6b5fab8052498a"
   },
   "outputs": [],
   "source": [
    "def get_input(input_path):\n",
    "    img=cv2.imread(input_path)\n",
    "    img=cv2.cvtColor(img,cv2.COLOR_BGR2RGB)\n",
    "    return img"
   ]
  },
  {
   "cell_type": "code",
   "execution_count": 3,
   "metadata": {},
   "outputs": [],
   "source": [
    "def get_outputlabel(label_input_path):\n",
    "    ### work on input label for the image and return it\n",
    "    return label"
   ]
  },
  {
   "cell_type": "code",
   "execution_count": 4,
   "metadata": {},
   "outputs": [],
   "source": [
    "def preprocess_input(img):\n",
    "    ## do whatever with image\n",
    "    return img"
   ]
  },
  {
   "cell_type": "code",
   "execution_count": 5,
   "metadata": {},
   "outputs": [],
   "source": [
    "def image_generator(files,label_file,batchsize=64):\n",
    "    while True:\n",
    "        # Select files (paths/indices) for the batch\n",
    "          batch_paths = np.random.choice(a = files, \n",
    "                                         size = batch_size)\n",
    "          batch_input = []\n",
    "          batch_output = [] \n",
    "          \n",
    "          # Read in each input, perform preprocessing and get labels\n",
    "          for input_path in batch_paths:\n",
    "              input = get_input(input_path )\n",
    "              output = get_output(input_path,label_file=label_file )\n",
    "            \n",
    "              input = preprocess_input(image=input)\n",
    "              batch_input += [ input ]\n",
    "              batch_output += [ output ]\n",
    "          # Return a tuple of (input,output) to feed the network\n",
    "          batch_x = np.array( batch_input )\n",
    "          batch_y = np.array( batch_output )\n",
    "        \n",
    "          yield( batch_x, batch_y )"
   ]
  }
 ],
 "metadata": {
  "kernelspec": {
   "display_name": "Python 3",
   "language": "python",
   "name": "python3"
  },
  "language_info": {
   "codemirror_mode": {
    "name": "ipython",
    "version": 3
   },
   "file_extension": ".py",
   "mimetype": "text/x-python",
   "name": "python",
   "nbconvert_exporter": "python",
   "pygments_lexer": "ipython3",
   "version": "3.6.4"
  }
 },
 "nbformat": 4,
 "nbformat_minor": 1
}
