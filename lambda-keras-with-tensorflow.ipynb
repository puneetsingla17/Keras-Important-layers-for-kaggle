{
 "cells": [
  {
   "cell_type": "code",
   "execution_count": 1,
   "metadata": {
    "_cell_guid": "b1076dfc-b9ad-4769-8c92-a6c4dae69d19",
    "_uuid": "8f2839f25d086af736a60e9eeb907d3b93b6e0e5"
   },
   "outputs": [
    {
     "name": "stderr",
     "output_type": "stream",
     "text": [
      "Using TensorFlow backend.\n"
     ]
    },
    {
     "name": "stdout",
     "output_type": "stream",
     "text": [
      "[]\n"
     ]
    }
   ],
   "source": [
    "# This Python 3 environment comes with many helpful analytics libraries installed\n",
    "# It is defined by the kaggle/python docker image: https://github.com/kaggle/docker-python\n",
    "# For example, here's several helpful packages to load in \n",
    "\n",
    "import numpy as np # linear algebra\n",
    "import pandas as pd # data processing, CSV file I/O (e.g. pd.read_csv)\n",
    "from keras.layers import Lambda,Input\n",
    "from keras.models import Model\n",
    "# Input data files are available in the \"../input/\" directory.\n",
    "# For example, running this (by clicking run or pressing Shift+Enter) will list the files in the input directory\n",
    "import tensorflow as tf\n",
    "import os\n",
    "print(os.listdir(\"../input\"))\n",
    "\n",
    "# Any results you write to the current directory are saved as output."
   ]
  },
  {
   "cell_type": "code",
   "execution_count": 2,
   "metadata": {
    "_cell_guid": "79c7e3d0-c299-4dcb-8224-4455121ee9b0",
    "_uuid": "d629ff2d2480ee46fbb7e2d37f6b5fab8052498a"
   },
   "outputs": [],
   "source": [
    "x=Input(shape=[2,3])\n",
    "y=Lambda(lambda x:x**2)(x)"
   ]
  },
  {
   "cell_type": "code",
   "execution_count": 3,
   "metadata": {
    "_uuid": "ad258f5ede22a6c4ee44f57bfc560148990ac61d"
   },
   "outputs": [
    {
     "data": {
      "text/plain": [
       "array([[[1, 0, 1],\n",
       "        [1, 3, 4]]])"
      ]
     },
     "execution_count": 3,
     "metadata": {},
     "output_type": "execute_result"
    }
   ],
   "source": [
    "x1=np.random.randint(0,10,size=[1,2,3])\n",
    "x1"
   ]
  },
  {
   "cell_type": "code",
   "execution_count": 4,
   "metadata": {
    "_uuid": "bf209782b0a19c8292a9046b6023561bbc6b1f4f"
   },
   "outputs": [
    {
     "name": "stdout",
     "output_type": "stream",
     "text": [
      "[array([[[ 1.,  0.,  1.],\n",
      "        [ 1.,  9., 16.]]], dtype=float32), array([1, 2, 3], dtype=int32)]\n"
     ]
    }
   ],
   "source": [
    "with tf.Session() as s:\n",
    "    print(s.run([y,tf.shape(y)],feed_dict={x:x1}))"
   ]
  },
  {
   "cell_type": "code",
   "execution_count": 5,
   "metadata": {
    "_uuid": "22475afbf7ff181b1d83284696060f88a159ba95"
   },
   "outputs": [],
   "source": [
    "#very important use of Lambda               "
   ]
  },
  {
   "cell_type": "code",
   "execution_count": 6,
   "metadata": {
    "_uuid": "7ed3f104d0ccd7d6bc3874def00673e2db120b3c"
   },
   "outputs": [],
   "source": [
    "def fun(x):\n",
    "    return x/5"
   ]
  },
  {
   "cell_type": "code",
   "execution_count": 7,
   "metadata": {
    "_uuid": "45c6acdf7af2c46213e007b963ddd49fcb0bc8a2"
   },
   "outputs": [],
   "source": [
    "x=Input(shape=[3,4])\n",
    "y=Lambda(fun)(x)"
   ]
  },
  {
   "cell_type": "code",
   "execution_count": 8,
   "metadata": {
    "_uuid": "ac93d94905fd1a0c0880e7e70ee43f226785273c"
   },
   "outputs": [],
   "source": [
    "x2=np.random.randint(0,10,size=[1,3,4])"
   ]
  },
  {
   "cell_type": "code",
   "execution_count": 9,
   "metadata": {
    "_uuid": "203dd7ae0e1c9c9445750a49ca5ba7a4a8eda37a"
   },
   "outputs": [
    {
     "name": "stdout",
     "output_type": "stream",
     "text": [
      "[array([[[1.4      , 1.2      , 0.6      , 0.2      ],\n",
      "        [0.6      , 1.8000001, 0.6      , 1.8000001],\n",
      "        [1.2      , 1.4      , 0.6      , 0.4      ]]], dtype=float32), array([1, 3, 4], dtype=int32)]\n"
     ]
    }
   ],
   "source": [
    "with tf.Session() as s:\n",
    "    print(s.run([y,tf.shape(y)],feed_dict={x:x2}))"
   ]
  },
  {
   "cell_type": "code",
   "execution_count": 10,
   "metadata": {
    "_uuid": "ef322c77d3e4c349121729cba99a0783e5bfe977"
   },
   "outputs": [],
   "source": [
    "x=Input(shape=[3,4])\n",
    "y=Lambda(lambda x:x>5)(x)"
   ]
  },
  {
   "cell_type": "code",
   "execution_count": 11,
   "metadata": {
    "_uuid": "ffc9b2ad178edeb67d508d375f09ffc1563e5881"
   },
   "outputs": [
    {
     "name": "stdout",
     "output_type": "stream",
     "text": [
      "[array([[[ True,  True, False, False],\n",
      "        [False,  True, False,  True],\n",
      "        [ True,  True, False, False]]]), array([1, 3, 4], dtype=int32)]\n"
     ]
    }
   ],
   "source": [
    "with tf.Session() as s:\n",
    "    print(s.run([y,tf.shape(y)],feed_dict={x:x2}))"
   ]
  },
  {
   "cell_type": "code",
   "execution_count": 12,
   "metadata": {
    "_uuid": "6a56b9c2f0f4c43c24a61ae51b19cfb0759ebd7a"
   },
   "outputs": [],
   "source": [
    "def fun(x):\n",
    "    if x<4:\n",
    "        return 0\n",
    "    elif x<7:\n",
    "        return 1\n",
    "    else:\n",
    "        return 2"
   ]
  },
  {
   "cell_type": "code",
   "execution_count": 13,
   "metadata": {
    "_uuid": "c452bf1323437d52b4072e9fecdf7f12c25bb9ac"
   },
   "outputs": [],
   "source": [
    "x=Input(shape=[3,4])\n",
    "y=Lambda(lambda x:tf.shape(x))(x)"
   ]
  },
  {
   "cell_type": "code",
   "execution_count": 14,
   "metadata": {
    "_uuid": "260831bf9ea9ac8c507d741cbc24e89ef7158f62"
   },
   "outputs": [
    {
     "name": "stdout",
     "output_type": "stream",
     "text": [
      "[array([1, 3, 4], dtype=int32)]\n"
     ]
    }
   ],
   "source": [
    "with tf.Session() as s:\n",
    "    print(s.run([y],feed_dict={x:x2}))"
   ]
  },
  {
   "cell_type": "code",
   "execution_count": 15,
   "metadata": {
    "_uuid": "cc6414290f28c1faf48ac49aa6c33316616e563f"
   },
   "outputs": [],
   "source": [
    "#This proves that input to Lambda layer is complete layer of x"
   ]
  },
  {
   "cell_type": "code",
   "execution_count": 16,
   "metadata": {
    "_uuid": "1502e353fdbe5c7bfdc26ff8c8b718d581c4cf8b"
   },
   "outputs": [],
   "source": [
    "x=Input(shape=[3,4])\n",
    "y=Lambda(lambda x:tf.square(x)-x)(x)"
   ]
  },
  {
   "cell_type": "code",
   "execution_count": 17,
   "metadata": {
    "_uuid": "3abd14e504c1074bce91bb18118cf86221a012f3"
   },
   "outputs": [
    {
     "name": "stdout",
     "output_type": "stream",
     "text": [
      "[array([[[42., 30.,  6.,  0.],\n",
      "        [ 6., 72.,  6., 72.],\n",
      "        [30., 42.,  6.,  2.]]], dtype=float32)]\n"
     ]
    }
   ],
   "source": [
    "with tf.Session() as s:\n",
    "    print(s.run([y],feed_dict={x:x2}))"
   ]
  },
  {
   "cell_type": "code",
   "execution_count": 18,
   "metadata": {
    "_uuid": "5e867c89d5d6d88b4fe3b7ed2d8f711d1f8f4102"
   },
   "outputs": [
    {
     "data": {
      "text/plain": [
       "array([[[7, 6, 3, 1],\n",
       "        [3, 9, 3, 9],\n",
       "        [6, 7, 3, 2]]])"
      ]
     },
     "execution_count": 18,
     "metadata": {},
     "output_type": "execute_result"
    }
   ],
   "source": [
    "x2"
   ]
  },
  {
   "cell_type": "code",
   "execution_count": 19,
   "metadata": {
    "_uuid": "63c99eeb65551e57e398fd32e75b7f03c4d71eff"
   },
   "outputs": [],
   "source": [
    "x=Input(shape=[3,4])\n",
    "y=Lambda(lambda x:tf.pow(x,3)-x)(x)"
   ]
  },
  {
   "cell_type": "code",
   "execution_count": 20,
   "metadata": {
    "_uuid": "9e22f5ff0aace8d77c226081698708f15fb8a3e0"
   },
   "outputs": [
    {
     "name": "stdout",
     "output_type": "stream",
     "text": [
      "[array([[[336., 210.,  24.,   0.],\n",
      "        [ 24., 720.,  24., 720.],\n",
      "        [210., 336.,  24.,   6.]]], dtype=float32)]\n"
     ]
    }
   ],
   "source": [
    "with tf.Session() as s:\n",
    "    print(s.run([y],feed_dict={x:x2}))"
   ]
  },
  {
   "cell_type": "code",
   "execution_count": 21,
   "metadata": {
    "_uuid": "e82bfaf7f00258b6fb7694f94e11e63305f100f4"
   },
   "outputs": [],
   "source": []
  }
 ],
 "metadata": {
  "kernelspec": {
   "display_name": "Python 3",
   "language": "python",
   "name": "python3"
  },
  "language_info": {
   "codemirror_mode": {
    "name": "ipython",
    "version": 3
   },
   "file_extension": ".py",
   "mimetype": "text/x-python",
   "name": "python",
   "nbconvert_exporter": "python",
   "pygments_lexer": "ipython3",
   "version": "3.6.6"
  }
 },
 "nbformat": 4,
 "nbformat_minor": 1
}
